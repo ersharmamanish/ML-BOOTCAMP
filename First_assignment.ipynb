{
 "cells": [
  {
   "cell_type": "markdown",
   "id": "9dd091f5",
   "metadata": {},
   "source": [
    "# 1.WAP to accept two numbers from the user and display their sum"
   ]
  },
  {
   "cell_type": "code",
   "execution_count": 5,
   "id": "e64b2b7f",
   "metadata": {},
   "outputs": [
    {
     "name": "stdout",
     "output_type": "stream",
     "text": [
      "Enter first number 8\n",
      "Second first number 9\n",
      "The sum is 17 \n"
     ]
    }
   ],
   "source": [
    "a= int(input('Enter first number '))\n",
    "b =int(input('Second first number '))\n",
    "sum= a+b\n",
    "print(\"The sum is {0} \".format(sum))"
   ]
  },
  {
   "cell_type": "markdown",
   "id": "12401e4a",
   "metadata": {},
   "source": [
    "# 2.WAP to accept radius of a Circle from the user and calculate area and circumference"
   ]
  },
  {
   "cell_type": "code",
   "execution_count": 6,
   "id": "ab392f63",
   "metadata": {},
   "outputs": [
    {
     "name": "stdout",
     "output_type": "stream",
     "text": [
      "Enter the radius 2\n",
      "The area of circle is 12.56 \n"
     ]
    }
   ],
   "source": [
    "a= float(input('Enter the radius '))\n",
    "area= 3.14*(a**2)\n",
    "print('The area of circle is {} '.format(area))"
   ]
  },
  {
   "cell_type": "markdown",
   "id": "be5b4077",
   "metadata": {},
   "source": [
    "# 3.WAP to accept roll number , grade and percentage as input from the user and display it back"
   ]
  },
  {
   "cell_type": "code",
   "execution_count": 7,
   "id": "7f8389d4",
   "metadata": {
    "scrolled": true
   },
   "outputs": [
    {
     "name": "stdout",
     "output_type": "stream",
     "text": [
      "Enter the rollnumber50\n",
      "Enter the grade of studenta\n",
      "enter the percentage of student90\n",
      "The student roll number is 50, grade a and percent is 90.0 \n"
     ]
    }
   ],
   "source": [
    "roll_number = int(input('Enter the rollnumber'))\n",
    "grade = str(input('Enter the grade of student'))\n",
    "percent= float(input('enter the percentage of student'))\n",
    "print(\"The student roll number is {0}, grade {1} and percent is {2} \".format(roll_number,grade,percent))"
   ]
  },
  {
   "cell_type": "markdown",
   "id": "f55c93e0",
   "metadata": {},
   "source": [
    "# 4.Write a Python program which accepts the user's first and last name and print them in reverse order with a space between them."
   ]
  },
  {
   "cell_type": "code",
   "execution_count": 8,
   "id": "1de81ffd",
   "metadata": {},
   "outputs": [
    {
     "name": "stdout",
     "output_type": "stream",
     "text": [
      "please enter the first namemanish\n",
      "Enter last name sharma\n",
      "Full name  reverse order with space is amrahs hsinam \n"
     ]
    }
   ],
   "source": [
    "first = input('please enter the first name')\n",
    "last = input('Enter last name ')\n",
    "full_name = first+\" \"+last\n",
    "print('Full name  reverse order with space is {} '.format(full_name[::-1]))"
   ]
  },
  {
   "cell_type": "markdown",
   "id": "3685e2fa",
   "metadata": {},
   "source": [
    "# 5.WAP to accept an integer from the user and check whether it is an even or odd "
   ]
  },
  {
   "cell_type": "code",
   "execution_count": 3,
   "id": "6e3099a6",
   "metadata": {},
   "outputs": [
    {
     "name": "stdout",
     "output_type": "stream",
     "text": [
      "Enter number is :15\n",
      "NUmber is odd\n"
     ]
    }
   ],
   "source": [
    "even_odd = int(input(\"Enter number is :\"))\n",
    "if even_odd%2==0:\n",
    "    print(\"Number is even\")\n",
    "else:\n",
    "    print('NUmber is odd')"
   ]
  },
  {
   "cell_type": "markdown",
   "id": "42bf5a9e",
   "metadata": {},
   "source": [
    "# 6.WAP to accept a character from the user and check whether it is a capital letter or small letter. Assume user will input only alphabets"
   ]
  },
  {
   "cell_type": "code",
   "execution_count": 11,
   "id": "5ab19e73",
   "metadata": {},
   "outputs": [
    {
     "name": "stdout",
     "output_type": "stream",
     "text": [
      "Enter character is : a\n",
      "ch is small\n"
     ]
    }
   ],
   "source": [
    "ch = str(input(\"Enter character is : \"))\n",
    "if ch >= 'A' and ch <= 'Z' :\n",
    "    print(\"ch is capital\")\n",
    "else:\n",
    "    print(\"ch is small\")"
   ]
  },
  {
   "cell_type": "markdown",
   "id": "1179c112",
   "metadata": {},
   "source": [
    "# 7.WAP to accept a character from the user and check whether it is a capital letter or small letter or a digit or some special symbol"
   ]
  },
  {
   "cell_type": "code",
   "execution_count": 24,
   "id": "eefd3ad7",
   "metadata": {},
   "outputs": [
    {
     "name": "stdout",
     "output_type": "stream",
     "text": [
      "Enter character is : @\n",
      "ch is some special\n"
     ]
    }
   ],
   "source": [
    "ch = str(input(\"Enter character is : \"))\n",
    "if ch >= 'A' and ch <= 'Z' :\n",
    "    print(\"ch is capital\")\n",
    "elif ch>='a' and ch <='z':\n",
    "    print('ch is small')\n",
    "elif ch >= '0' and ch <= '9':\n",
    "    print('ch is integer')\n",
    "\n",
    "else:\n",
    "    print('ch is some special')\n",
    "    \n",
    "    "
   ]
  },
  {
   "cell_type": "markdown",
   "id": "b1043313",
   "metadata": {},
   "source": [
    "# 8.WAP to accept 3 integers from the user and without using any logical operator and cascading of relational operators , find out the greatest number amongst them\n"
   ]
  },
  {
   "cell_type": "code",
   "execution_count": 27,
   "id": "2ec8a520",
   "metadata": {},
   "outputs": [
    {
     "name": "stdout",
     "output_type": "stream",
     "text": [
      "Enter first number5\n",
      "Enter second number5\n",
      "Enter third  number5\n",
      "each number is equal\n"
     ]
    }
   ],
   "source": [
    "a=int(input(\"Enter first number\"))\n",
    "b= int(input(\"Enter second number\"))\n",
    "c= int(input(\"Enter third  number\"))\n",
    "if a>b and a>c:\n",
    "    print(\"a is greatest number\")\n",
    "elif b>a and b>c:\n",
    "    print(\"b is greatest number \")\n",
    "elif a==b==c:\n",
    "    print(\"each number is equal\")\n",
    "else:\n",
    "    print(\"c is greatest number\")"
   ]
  },
  {
   "cell_type": "markdown",
   "id": "b5531b45",
   "metadata": {},
   "source": [
    "# 9.You have to develop a number guessing game. Following are the steps needed:"
   ]
  },
  {
   "cell_type": "code",
   "execution_count": 75,
   "id": "2a6603cf",
   "metadata": {},
   "outputs": [
    {
     "name": "stdout",
     "output_type": "stream",
     "text": [
      "5\n"
     ]
    }
   ],
   "source": [
    "n = random.randrange(1,10)\n",
    "print(n)"
   ]
  },
  {
   "cell_type": "code",
   "execution_count": 77,
   "id": "509ab4a7",
   "metadata": {},
   "outputs": [
    {
     "name": "stdout",
     "output_type": "stream",
     "text": [
      "Enter any number 5\n",
      "Too high\n",
      "Enter  number again 2\n",
      "too low\n",
      "Enter  number again 3\n",
      "you are right\n"
     ]
    }
   ],
   "source": [
    "import random\n",
    "n= random.randrange(1,10)\n",
    "guess = int(input(\"Enter any number \"))\n",
    "while n != guess:\n",
    "    if n > guess:\n",
    "        print('too low')\n",
    "        guess= int(input(\"Enter  number again \"))\n",
    "    elif n<guess:\n",
    "        print('Too high')\n",
    "        guess = int(input(\"Enter  number again \"))\n",
    "    else:\n",
    "        break\n",
    "print('you are right')"
   ]
  },
  {
   "cell_type": "markdown",
   "id": "326bc030",
   "metadata": {},
   "source": [
    "# 10.WAP to accept a year from the user and check whether it is a leap year or not.\n",
    "An year is a leap year if:\n",
    "It is exactly divisible by 4 and at the same time not\n",
    "divisible by 100\n",
    "OR\n",
    "It is divisible by 400\n",
    "For example:\n",
    "2017 is not a leap year\n",
    "2012 is a leap year\n",
    "1900 is a not leap year\n",
    "2000 is a leap year\n"
   ]
  },
  {
   "cell_type": "code",
   "execution_count": 7,
   "id": "95508d2f",
   "metadata": {},
   "outputs": [
    {
     "name": "stdout",
     "output_type": "stream",
     "text": [
      "Enter year to be checked:2022\n",
      "The year isn't a leap year!\n"
     ]
    }
   ],
   "source": [
    "year=int(input(\"Enter year to be checked:\"))\n",
    "if(year%4==0 and year%100!=0 or year%400==0):\n",
    "    print(\"The year is a leap year!\")\n",
    "else:\n",
    "    print(\"The year isn't a leap year!\")"
   ]
  },
  {
   "cell_type": "markdown",
   "id": "d99d6bdc",
   "metadata": {},
   "source": [
    "# 11.Write a program to accept a string from the user and display it vertically but don’t display the vowels in it.\n"
   ]
  },
  {
   "cell_type": "code",
   "execution_count": 9,
   "id": "7aa1478c",
   "metadata": {},
   "outputs": [
    {
     "name": "stdout",
     "output_type": "stream",
     "text": [
      "enter the stringmanish sharma\n",
      "m\n",
      "n\n",
      "s\n",
      "h\n",
      " \n",
      "s\n",
      "h\n",
      "r\n",
      "m\n"
     ]
    }
   ],
   "source": [
    "user = str(input(\"enter the string\"))\n",
    "for i in user:\n",
    "    if i not in  ['a','e','i', 'o','u']:\n",
    "        print(i)\n",
    "        "
   ]
  },
  {
   "cell_type": "code",
   "execution_count": 13,
   "id": "404b95fd",
   "metadata": {},
   "outputs": [
    {
     "name": "stdout",
     "output_type": "stream",
     "text": [
      "* \t\n",
      "* * \t\n",
      "* * * \t\n",
      "* * * * \t\n",
      "* * * * * \t\n"
     ]
    }
   ],
   "source": [
    "for i in range(0,5):\n",
    "    for j in range (0,i+1):\n",
    "        print(\"* \",end=\"\")\n",
    "    print(\"\\t\")"
   ]
  },
  {
   "cell_type": "code",
   "execution_count": 10,
   "id": "9aee6ebb",
   "metadata": {},
   "outputs": [
    {
     "name": "stdout",
     "output_type": "stream",
     "text": [
      "* * * * * \t\n",
      "* * * * \t\n",
      "* * * \t\n",
      "* * \t\n",
      "* \t\n"
     ]
    }
   ],
   "source": [
    "for i in range (5,0,-1):\n",
    "    for j in range (0,i):\n",
    "            print(\"* \",end=\"\")\n",
    "    print(\"\\t\")"
   ]
  },
  {
   "cell_type": "code",
   "execution_count": 15,
   "id": "dc2e1813",
   "metadata": {},
   "outputs": [
    {
     "name": "stdout",
     "output_type": "stream",
     "text": [
      "* * * \t\n",
      "* * * \t\n",
      "* * * \t\n",
      "* * * \t\n"
     ]
    }
   ],
   "source": [
    "for i in range (4):\n",
    "    for j in range (3):\n",
    "           print(\"* \",end=\"\")\n",
    "    print(\"\\t\")"
   ]
  },
  {
   "cell_type": "markdown",
   "id": "4745b0c1",
   "metadata": {},
   "source": [
    "# 15.Write a program to accept an integer from the user and display the sum of all the numbers from 1 to that number."
   ]
  },
  {
   "cell_type": "code",
   "execution_count": 22,
   "id": "de4b7d83",
   "metadata": {},
   "outputs": [
    {
     "name": "stdout",
     "output_type": "stream",
     "text": [
      "Enter only positve value: 10\n",
      "55\n"
     ]
    }
   ],
   "source": [
    "user= int(input(\"Enter only positve value: \"))\n",
    "sum= 0\n",
    "for i in range(user+1):\n",
    "    sum+=i\n",
    "print(sum)\n",
    "    \n",
    "    \n",
    "    "
   ]
  },
  {
   "cell_type": "markdown",
   "id": "8e059349",
   "metadata": {},
   "source": [
    "# 16.Write a program to accept an integer from the user and calculate its factorial"
   ]
  },
  {
   "cell_type": "code",
   "execution_count": 8,
   "id": "efd8fc43",
   "metadata": {},
   "outputs": [
    {
     "name": "stdout",
     "output_type": "stream",
     "text": [
      "Enter the Number5\n",
      "120\n"
     ]
    }
   ],
   "source": [
    "num =int(input(\"Enter the Number\"))\n",
    "fact=1\n",
    "i=1\n",
    "while i<=num:\n",
    "    fact = fact*i\n",
    "    i+=1\n",
    "print(fact)"
   ]
  },
  {
   "cell_type": "code",
   "execution_count": null,
   "id": "9c0fb317",
   "metadata": {},
   "outputs": [],
   "source": []
  },
  {
   "cell_type": "code",
   "execution_count": null,
   "id": "7f1174c8",
   "metadata": {},
   "outputs": [],
   "source": []
  },
  {
   "cell_type": "code",
   "execution_count": null,
   "id": "eb41d322",
   "metadata": {},
   "outputs": [],
   "source": []
  },
  {
   "cell_type": "code",
   "execution_count": null,
   "id": "d7af8345",
   "metadata": {},
   "outputs": [],
   "source": []
  },
  {
   "cell_type": "code",
   "execution_count": null,
   "id": "dc0b27cb",
   "metadata": {},
   "outputs": [],
   "source": []
  },
  {
   "cell_type": "code",
   "execution_count": null,
   "id": "73347678",
   "metadata": {},
   "outputs": [],
   "source": []
  },
  {
   "cell_type": "code",
   "execution_count": null,
   "id": "e2459bdd",
   "metadata": {},
   "outputs": [],
   "source": []
  },
  {
   "cell_type": "code",
   "execution_count": null,
   "id": "73926f38",
   "metadata": {},
   "outputs": [],
   "source": []
  },
  {
   "cell_type": "code",
   "execution_count": null,
   "id": "8fa9f8bd",
   "metadata": {},
   "outputs": [],
   "source": []
  }
 ],
 "metadata": {
  "kernelspec": {
   "display_name": "Python 3 (ipykernel)",
   "language": "python",
   "name": "python3"
  },
  "language_info": {
   "codemirror_mode": {
    "name": "ipython",
    "version": 3
   },
   "file_extension": ".py",
   "mimetype": "text/x-python",
   "name": "python",
   "nbconvert_exporter": "python",
   "pygments_lexer": "ipython3",
   "version": "3.9.12"
  }
 },
 "nbformat": 4,
 "nbformat_minor": 5
}
